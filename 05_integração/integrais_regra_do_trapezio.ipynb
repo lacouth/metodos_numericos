{
 "cells": [
  {
   "cell_type": "markdown",
   "metadata": {
    "slideshow": {
     "slide_type": "slide"
    }
   },
   "source": [
    "# Métodos Numéricos\n",
    "\n",
    "## Integrais definidas - regra do trapézio\n",
    "\n",
    "### Patric Lacouth"
   ]
  },
  {
   "cell_type": "markdown",
   "metadata": {
    "slideshow": {
     "slide_type": "slide"
    }
   },
   "source": [
    "# Integração numérica\n",
    "\n",
    "De acordo com a definição do dicionário, integrar significa “reunir, como partes, um todo; para unir; para indicar o valor total. . .\". Matematicamente, uma integral definida é representada por:\n",
    "\n",
    "$$ I = \\int_a^b f(x) dx $$\n",
    "\n",
    "que representa a integral da função $f(x)$ em relação à variável independente x, avaliada entre os limites x = a e x = b."
   ]
  },
  {
   "cell_type": "markdown",
   "metadata": {
    "slideshow": {
     "slide_type": "slide"
    }
   },
   "source": [
    "## FÓRMULAS DE NEWTON-COTES\n",
    "\n",
    "As fórmulas de Newton-Cotes são os esquemas de integração numérica mais comuns. Eles são baseados na estratégia de substituir uma função complicada ou dados tabulados por um polinômio que é fácil de integrar.\n",
    "\n",
    "![](imagens/exemplo_newton_cotes.png)\n"
   ]
  },
  {
   "cell_type": "markdown",
   "metadata": {
    "cell_style": "split",
    "slideshow": {
     "slide_type": "slide"
    }
   },
   "source": [
    "### A regra do trapézio\n",
    "\n",
    "Geometricamente, a regra do trapézio é equivalente a aproximar a área do trapézio sob a linha reta conectando $f(a)$ e $f(b)$ na figura abaixo.\n",
    "\n",
    "<img src = \"imagens/regra_trapezio.png\" width = 70% style = \"display:block;\n",
    "margin-right:auto;\n",
    "margin-left:auto;\" />"
   ]
  },
  {
   "cell_type": "markdown",
   "metadata": {
    "cell_style": "split"
   },
   "source": [
    "Lembre-se da geometria de que a fórmula para calcular a área de um trapézio é a altura multiplicada pela média das bases. No nosso caso, o conceito é o mesmo, mas o trapézio está de lado. Portanto, a estimativa da integral pode ser representada como\n",
    "\n",
    "$$I = largura \\times \\text{média das alturas}$$\n",
    "\n",
    "\n",
    "$$I = (b-a)\\frac{f(a) + f(b)}{2}$$"
   ]
  },
  {
   "cell_type": "markdown",
   "metadata": {
    "slideshow": {
     "slide_type": "slide"
    }
   },
   "source": [
    "## Exemplo\n",
    "\n",
    "1. Usando a regra do trapézio integre a função:\n",
    "\n",
    "$$f(x) = 0.2 +25x-200x^2+675x^3-900x^4+400x^5$$\n",
    "\n",
    "de $a=0$ a $b=0.8$. Note que o valor da integral pode ser definida analiticamente como $I = 1.640533$.\n",
    "\n",
    "\n",
    "__solução__\n",
    "\n",
    "Os valores das funções $f(0) = 0.2$ e $f(0.8) = 0.232$ podem ser substituídos na regra do trapézio o que leva:\n",
    "\n",
    "$$I = (0.8 - 0)\\frac{0.2 + 0.232}{2} = 0.1728$$\n",
    "\n",
    "o que representa um erro real de $\\epsilon_t = 89.5\\%$. "
   ]
  },
  {
   "cell_type": "markdown",
   "metadata": {
    "slideshow": {
     "slide_type": "slide"
    }
   },
   "source": [
    "A razão para esse erro fica evidente na figura abaixo:\n",
    "<img src = \"imagens/erro_trapezio.png\" width = 50% style = \"display:block;\n",
    "margin-right:auto;\n",
    "margin-left:auto;\" />"
   ]
  },
  {
   "cell_type": "markdown",
   "metadata": {
    "slideshow": {
     "slide_type": "slide"
    }
   },
   "source": [
    "\n",
    "### A regra do trapézio composta\n",
    "\n",
    "Uma maneira de melhorar a precisão da regra do trapézio é dividir o intervalo de integração de $a$ para $b$ em vários segmentos e aplicar o método a cada segmento como ilustra a figura.\n",
    "\n",
    "<img src = \"imagens/trapezio_composto.png\" width = 50% style = \"display:block;\n",
    "margin-right:auto;\n",
    "margin-left:auto;\" />"
   ]
  },
  {
   "cell_type": "markdown",
   "metadata": {
    "slideshow": {
     "slide_type": "slide"
    }
   },
   "source": [
    "Existem $n + 1$ pontos igualmente espaçados ($x_0, x_1, x_2, \\dots x_n$). Consequentemente, existem $n$ segmentos de largura igual:\n",
    "\n",
    "$$h = \\frac{b-a}{n}$$\n",
    "\n",
    "Se $a$ e $b$ são designados como $x_0$ e $x_n$, respectivamente, a integral total pode ser representada como\n",
    "\n",
    "$$I = \\int_{x_0}^{x_1}f(x)dx + \\int_{x_1}^{x_2}f(x)dx + \\dots + \\int_{x_{n-1}}^{x_n}f(x)dx$$"
   ]
  },
  {
   "cell_type": "markdown",
   "metadata": {
    "slideshow": {
     "slide_type": "slide"
    }
   },
   "source": [
    "Substituindo a regra do trapézio para cada integral leva a:\n",
    "\n",
    "$$I = h\\frac{f(x_0) + f(x_1)}{2} + h\\frac{f(x_1) + f(x_2)}{2} + h\\frac{f(x_2) + f(x_3)}{2} + \\dots + h\\frac{f(x_{n-1}) + f(x_n)}{2}$$\n",
    "\n",
    "agrupando os termos:\n",
    "\n",
    "$$I = \\frac{h}{2} \\left[ f(x_0) + 2\\sum_{i=1}^{n-1} f(x_i) + f(x_n) \\right]$$\n",
    "\n",
    "De acordo com a equação acima, os pontos interiores recebem duas vezes o peso dos dois pontos finais $f(x_0)$ e $f(x_n)$."
   ]
  },
  {
   "cell_type": "markdown",
   "metadata": {
    "slideshow": {
     "slide_type": "slide"
    }
   },
   "source": [
    "ou caso $h$ seja substituido:\n",
    "\n",
    "$$I = \\frac{(b-a)}{2n} \\left[ f(x_0) + 2\\sum_{i=1}^{n-1} f(x_i) + f(x_n) \\right]$$"
   ]
  },
  {
   "cell_type": "markdown",
   "metadata": {
    "slideshow": {
     "slide_type": "skip"
    }
   },
   "source": [
    "## Exemplo\n",
    "\n",
    "Usando a regra do trapézio com dois segmentos integre a função:\n",
    "\n",
    "$$f(x) = 0.2 +25x-200x^2+675x^3-900x^4+400x^5$$\n",
    "\n",
    "de $a=0$ a $b=0.8$. Note que o valor da integral pode ser definida analiticamente como $I = 1.640533$."
   ]
  },
  {
   "cell_type": "markdown",
   "metadata": {
    "slideshow": {
     "slide_type": "skip"
    }
   },
   "source": [
    "__solução__\n",
    "\n",
    "Para $n=2$ \n",
    "\n",
    "$h=\\frac{b-a}{n} = \\frac{0.8 - 0}{2} = 0.4$:\n",
    "\n",
    "$f(0) = 0.2$\n",
    "\n",
    "$f(0.4) = 2.456$\n",
    "\n",
    "$f(0.8) = 0.232$\n",
    "\n",
    "$$I = \\frac{0.8}{4}[0.2+2(2.456)+0.232] = 1.0688$$\n",
    "\n",
    "o que representa um erro real de $\\epsilon_t = 34.9\\%$.\n"
   ]
  },
  {
   "cell_type": "markdown",
   "metadata": {
    "slideshow": {
     "slide_type": "slide"
    }
   },
   "source": [
    "## Implementação da regra do trapézio\n",
    "### importando as bibliotecas"
   ]
  },
  {
   "cell_type": "code",
   "execution_count": 1,
   "metadata": {},
   "outputs": [],
   "source": [
    "import numpy as np"
   ]
  },
  {
   "cell_type": "markdown",
   "metadata": {
    "slideshow": {
     "slide_type": "slide"
    }
   },
   "source": [
    "### Definindo a função para a integração\n",
    "$$f(x) = 0.2 +25x-200x^2+675x^3-900x^4+400x^5$$"
   ]
  },
  {
   "cell_type": "code",
   "execution_count": 2,
   "metadata": {},
   "outputs": [],
   "source": [
    "def f(x):\n",
    "    return 0.2 + 25 * x - 200 * x ** 2 + 675 * x **3 - 900 * x **4 + 400 * x ** 5"
   ]
  },
  {
   "cell_type": "markdown",
   "metadata": {
    "cell_style": "split",
    "slideshow": {
     "slide_type": "slide"
    }
   },
   "source": [
    "### Implementando a regra do trapézio\n",
    "$$I = \\frac{h}{2} \\left[ f(x_0) + 2\\sum_{i=1}^{n-1} f(x_i) + f(x_n) \\right]$$\n",
    "\n",
    "$$h = \\frac{b-a}{n}$$\n",
    "\n",
    "integre a função de $a=0$ a $b=0.8$. Note que o valor da integral pode ser definida analiticamente como $I = 1.640533$.\n"
   ]
  },
  {
   "cell_type": "code",
   "execution_count": 19,
   "metadata": {
    "cell_style": "split",
    "slideshow": {
     "slide_type": "-"
    }
   },
   "outputs": [
    {
     "name": "stdout",
     "output_type": "stream",
     "text": [
      "CPU times: user 4 µs, sys: 0 ns, total: 4 µs\n",
      "Wall time: 8.11 µs\n"
     ]
    },
    {
     "data": {
      "text/plain": [
       "(1.640533307733333, 1.87581312316259e-05)"
      ]
     },
     "execution_count": 19,
     "metadata": {},
     "output_type": "execute_result"
    }
   ],
   "source": [
    "%time\n",
    "a = 0.0\n",
    "b = 0.8\n",
    "n = 10000\n",
    "h = (b - a) / n\n",
    "fa = f(a)\n",
    "fb = f(b)\n",
    "\n",
    "xi = np.arange(a + h,b,h)\n",
    "fxi = f(xi)\n",
    "\n",
    "I = h / 2 * (fa + 2 * np.sum(fxi) + fb)\n",
    "\n",
    "v_real = 1.640533\n",
    "erro = np.abs((v_real - I) / v_real) * 100\n",
    "I,erro"
   ]
  },
  {
   "cell_type": "code",
   "execution_count": 20,
   "metadata": {},
   "outputs": [
    {
     "data": {
      "text/plain": [
       "array([0.20199872, 0.20399488, 0.20598849, ..., 0.23752069, 0.23568031,\n",
       "       0.23384008])"
      ]
     },
     "execution_count": 20,
     "metadata": {},
     "output_type": "execute_result"
    }
   ],
   "source": [
    "fxi"
   ]
  },
  {
   "cell_type": "code",
   "execution_count": null,
   "metadata": {},
   "outputs": [],
   "source": [
    "def trapezio(funcao, a, b, n):\n",
    "    return I"
   ]
  },
  {
   "cell_type": "markdown",
   "metadata": {
    "slideshow": {
     "slide_type": "slide"
    }
   },
   "source": [
    "# now, go code!"
   ]
  }
 ],
 "metadata": {
  "celltoolbar": "Slideshow",
  "kernelspec": {
   "display_name": "Python 3",
   "language": "python",
   "name": "python3"
  },
  "language_info": {
   "codemirror_mode": {
    "name": "ipython",
    "version": 3
   },
   "file_extension": ".py",
   "mimetype": "text/x-python",
   "name": "python",
   "nbconvert_exporter": "python",
   "pygments_lexer": "ipython3",
   "version": "3.7.4"
  },
  "rise": {
   "enable_chalkboard": true
  }
 },
 "nbformat": 4,
 "nbformat_minor": 2
}
